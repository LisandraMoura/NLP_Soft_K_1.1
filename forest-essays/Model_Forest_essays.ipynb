{
 "cells": [
  {
   "cell_type": "code",
   "execution_count": 2,
   "metadata": {},
   "outputs": [
    {
     "name": "stderr",
     "output_type": "stream",
     "text": [
      "[nltk_data] Downloading package punkt to\n",
      "[nltk_data]     C:\\Users\\moura\\AppData\\Roaming\\nltk_data...\n",
      "[nltk_data]   Package punkt is already up-to-date!\n"
     ]
    },
    {
     "data": {
      "text/plain": [
       "True"
      ]
     },
     "execution_count": 2,
     "metadata": {},
     "output_type": "execute_result"
    }
   ],
   "source": [
    "import nltk\n",
    "# Ensure nltk punkt tokenizer is downloaded (needed to split paragraphs into sentences)\n",
    "# nltk.download('punkt')"
   ]
  },
  {
   "cell_type": "code",
   "execution_count": 3,
   "metadata": {},
   "outputs": [
    {
     "name": "stderr",
     "output_type": "stream",
     "text": [
      "c:\\Users\\moura\\Anaconda3\\envs\\colab_essays\\lib\\site-packages\\tqdm\\auto.py:21: TqdmWarning: IProgress not found. Please update jupyter and ipywidgets. See https://ipywidgets.readthedocs.io/en/stable/user_install.html\n",
      "  from .autonotebook import tqdm as notebook_tqdm\n"
     ]
    },
    {
     "name": "stdout",
     "output_type": "stream",
     "text": [
      "Accuracy: 0.058704453441295545\n",
      "              precision    recall  f1-score   support\n",
      "\n",
      "        cEXT       0.60      0.53      0.56       272\n",
      "        cNEU       0.55      0.64      0.59       232\n",
      "        cAGR       0.57      0.67      0.62       264\n",
      "        cCON       0.60      0.51      0.55       267\n",
      "        cOPN       0.64      0.59      0.62       267\n",
      "\n",
      "   micro avg       0.59      0.59      0.59      1302\n",
      "   macro avg       0.59      0.59      0.59      1302\n",
      "weighted avg       0.59      0.59      0.59      1302\n",
      " samples avg       0.57      0.58      0.54      1302\n",
      "\n"
     ]
    },
    {
     "name": "stderr",
     "output_type": "stream",
     "text": [
      "c:\\Users\\moura\\Anaconda3\\envs\\colab_essays\\lib\\site-packages\\sklearn\\metrics\\_classification.py:1469: UndefinedMetricWarning: Precision and F-score are ill-defined and being set to 0.0 in samples with no predicted labels. Use `zero_division` parameter to control this behavior.\n",
      "  _warn_prf(average, modifier, msg_start, len(result))\n",
      "c:\\Users\\moura\\Anaconda3\\envs\\colab_essays\\lib\\site-packages\\sklearn\\metrics\\_classification.py:1469: UndefinedMetricWarning: Recall and F-score are ill-defined and being set to 0.0 in samples with no true labels. Use `zero_division` parameter to control this behavior.\n",
      "  _warn_prf(average, modifier, msg_start, len(result))\n"
     ]
    }
   ],
   "source": [
    "import pandas as pd\n",
    "import nltk\n",
    "from sklearn.preprocessing import LabelBinarizer\n",
    "from sklearn.model_selection import train_test_split\n",
    "from sklearn.ensemble import RandomForestClassifier\n",
    "from sklearn.metrics import accuracy_score, classification_report\n",
    "from sentence_transformers import SentenceTransformer\n",
    "\n",
    "# 1. Carregar o dataset\n",
    "essays_df = pd.read_csv(\"C:/Users/moura/Projetos/Colab-Essays/dados/essays.csv\", encoding=\"latin-1\")\n",
    "\n",
    "# 2. Pré-processamento\n",
    "\n",
    "# Dividir os ensaios em sentenças\n",
    "essays_df['sentences'] = essays_df['TEXT'].apply(nltk.sent_tokenize)\n",
    "\n",
    "# Converter 'y' e 'n' para '1' e '0'\n",
    "label_columns = ['cEXT', 'cNEU', 'cAGR', 'cCON', 'cOPN']\n",
    "binarizer = LabelBinarizer()\n",
    "for col in label_columns:\n",
    "    essays_df[col] = binarizer.fit_transform(essays_df[col])\n",
    "\n",
    "# Obter embeddings das sentenças usando SentenceTransformer\n",
    "model = SentenceTransformer('paraphrase-MiniLM-L6-v2')\n",
    "essays_df['embeddings'] = essays_df['sentences'].apply(lambda sentences: [model.encode(sentence) for sentence in sentences])\n",
    "\n",
    "# Agregar embeddings para representar o ensaio completo\n",
    "essays_df['essay_embedding'] = essays_df['embeddings'].apply(lambda embeddings: sum(embeddings)/len(embeddings))\n",
    "\n",
    "# 3. Dividir o dataset\n",
    "X = list(essays_df['essay_embedding'])\n",
    "y = essays_df[label_columns].values\n",
    "X_train, X_test, y_train, y_test = train_test_split(X, y, test_size=0.2, random_state=42)\n",
    "\n",
    "# 4. Construir e treinar o modelo\n",
    "clf = RandomForestClassifier(n_estimators=100, random_state=42)\n",
    "clf.fit(X_train, y_train)\n",
    "\n",
    "# 5. Validar o modelo\n",
    "y_pred = clf.predict(X_test)\n",
    "print(\"Accuracy:\", accuracy_score(y_test, y_pred))\n",
    "print(classification_report(y_test, y_pred, target_names=label_columns))\n"
   ]
  },
  {
   "cell_type": "code",
   "execution_count": null,
   "metadata": {},
   "outputs": [],
   "source": [
    "import pickle\n",
    "\n",
    "# Após treinar o modelo\n",
    "clf.fit(X_train, y_train)\n",
    "\n",
    "# Salvar o modelo em um arquivo\n",
    "with open(\"Essays_forest.pkl\", \"wb\") as file:\n",
    "    pickle.dump(clf, file)\n",
    "\n"
   ]
  }
 ],
 "metadata": {
  "kernelspec": {
   "display_name": "colab_essays",
   "language": "python",
   "name": "python3"
  },
  "language_info": {
   "codemirror_mode": {
    "name": "ipython",
    "version": 3
   },
   "file_extension": ".py",
   "mimetype": "text/x-python",
   "name": "python",
   "nbconvert_exporter": "python",
   "pygments_lexer": "ipython3",
   "version": "3.9.17"
  },
  "orig_nbformat": 4
 },
 "nbformat": 4,
 "nbformat_minor": 2
}
