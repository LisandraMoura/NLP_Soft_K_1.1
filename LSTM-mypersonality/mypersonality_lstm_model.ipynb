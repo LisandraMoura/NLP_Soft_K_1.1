{
 "cells": [
  {
   "cell_type": "code",
   "execution_count": 1,
   "metadata": {},
   "outputs": [],
   "source": [
    "import pandas as pd\n",
    "essays_df = pd.read_csv('C:/Users/moura/Projetos/Colab-Essays/dados/mypersonality_final.csv', encoding='latin-1')\n",
    "essays_df = essays_df[['#AUTHID','STATUS', 'cEXT', 'cNEU', 'cAGR', 'cCON', 'cOPN']]"
   ]
  },
  {
   "cell_type": "code",
   "execution_count": 2,
   "metadata": {},
   "outputs": [
    {
     "name": "stderr",
     "output_type": "stream",
     "text": [
      "c:\\Users\\moura\\Anaconda3\\envs\\colab_essays\\lib\\site-packages\\tqdm\\auto.py:21: TqdmWarning: IProgress not found. Please update jupyter and ipywidgets. See https://ipywidgets.readthedocs.io/en/stable/user_install.html\n",
      "  from .autonotebook import tqdm as notebook_tqdm\n"
     ]
    }
   ],
   "source": [
    "import numpy as np\n",
    "import nltk\n",
    "from sklearn.preprocessing import LabelBinarizer\n",
    "from sklearn.model_selection import train_test_split\n",
    "from sentence_transformers import SentenceTransformer\n",
    "from tensorflow.keras.models import Sequential\n",
    "from tensorflow.keras.layers import LSTM, Dense, Dropout\n",
    "from tensorflow.keras.optimizers import Adam\n",
    "\n",
    "# 1. Carregar o dataset e pré-processar\n",
    "\n",
    "essays_df = pd.read_csv(\"C:/Users/moura/Projetos/Colab-Essays/dados/essays.csv\", encoding=\"latin-1\")\n",
    "\n",
    "\n",
    "# Dividir os ensaios em sentenças\n",
    "essays_df['sentences'] = essays_df['TEXT'].apply(nltk.sent_tokenize)\n",
    "\n",
    "# Converter 'y' e 'n' para '1' e '0'\n",
    "label_columns = ['cEXT', 'cNEU', 'cAGR', 'cCON', 'cOPN']\n",
    "binarizer = LabelBinarizer()\n",
    "for col in label_columns:\n",
    "    essays_df[col] = binarizer.fit_transform(essays_df[col])"
   ]
  },
  {
   "cell_type": "code",
   "execution_count": null,
   "metadata": {},
   "outputs": [],
   "source": [
    "from tensorflow.keras.callbacks import EarlyStopping\n",
    "\n",
    "# 2. Obter embeddings das sentenças usando SentenceTransformer\n",
    "\n",
    "model = SentenceTransformer('paraphrase-MiniLM-L6-v2')\n",
    "essays_df['embeddings'] = essays_df['sentences'].apply(lambda sentences: [model.encode(sentence) for sentence in sentences])\n",
    "\n",
    "# 3. Agregar embeddings para representar o ensaio completo\n",
    "\n",
    "essays_df['essay_embedding'] = essays_df['embeddings'].apply(lambda embeddings: np.mean(embeddings, axis=0))\n",
    "\n",
    "# 4. Dividir os dados em conjuntos de treinamento e teste\n",
    "\n",
    "X = np.array(essays_df['essay_embedding'].tolist())\n",
    "y = essays_df[label_columns].values\n",
    "X_train, X_test, y_train, y_test = train_test_split(X, y, test_size=0.2, random_state=42)\n",
    "\n",
    "\n",
    "# 5. Construir e treinar um modelo LSTM\n",
    "\n",
    "model = Sequential()\n",
    "model.add(LSTM(128, input_shape=(X_train.shape[1], 1), return_sequences=True))\n",
    "model.add(Dropout(0.2))\n",
    "model.add(LSTM(64, return_sequences=False))\n",
    "model.add(Dropout(0.2))\n",
    "model.add(Dense(y_train.shape[1], activation='sigmoid'))\n",
    "\n",
    "model.compile(optimizer=Adam(lr=0.001), loss='binary_crossentropy', metrics=['accuracy'])\n",
    "\n",
    "# Reshape data for LSTM\n",
    "X_train = np.reshape(X_train, (X_train.shape[0], X_train.shape[1], 1))\n",
    "X_test = np.reshape(X_test, (X_test.shape[0], X_test.shape[1], 1))\n",
    "\n",
    "# Define the early stopping callback\n",
    "early_stop = EarlyStopping(monitor='val_loss', patience=5, restore_best_weights=True)\n",
    "\n",
    "\n",
    "# Train the model with the callback\n",
    "history = model.fit(X_train, y_train, epochs=100, batch_size=64, validation_data=(X_test, y_test), callbacks=[early_stop])\n",
    "\n",
    "\n",
    "# 6. Avaliar o modelo no conjunto de teste\n",
    "\n",
    "loss, accuracy = model.evaluate(X_test, y_test)\n",
    "print(f\"Test Loss: {loss}\")\n",
    "print(f\"Test Accuracy: {accuracy}\")\n"
   ]
  },
  {
   "cell_type": "code",
   "execution_count": null,
   "metadata": {},
   "outputs": [],
   "source": [
    "import pickle\n",
    "\n",
    "# Após treinar o modelo\n",
    "model.fit(X_train, y_train)\n",
    "\n",
    "# Salvar o modelo em um arquivo\n",
    "with open(\"mypersonality_lstm.pkl\", \"wb\") as file:\n",
    "    pickle.dump(model, file)\n",
    "\n"
   ]
  }
 ],
 "metadata": {
  "kernelspec": {
   "display_name": "colab_essays",
   "language": "python",
   "name": "python3"
  },
  "language_info": {
   "codemirror_mode": {
    "name": "ipython",
    "version": 3
   },
   "file_extension": ".py",
   "mimetype": "text/x-python",
   "name": "python",
   "nbconvert_exporter": "python",
   "pygments_lexer": "ipython3",
   "version": "3.9.17"
  },
  "orig_nbformat": 4
 },
 "nbformat": 4,
 "nbformat_minor": 2
}
