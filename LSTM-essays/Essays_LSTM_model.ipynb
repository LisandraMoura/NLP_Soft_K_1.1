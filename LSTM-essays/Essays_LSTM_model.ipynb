{
 "cells": [
  {
   "cell_type": "code",
   "execution_count": 2,
   "metadata": {},
   "outputs": [
    {
     "name": "stderr",
     "output_type": "stream",
     "text": [
      "[nltk_data] Downloading package punkt to\n",
      "[nltk_data]     C:\\Users\\moura\\AppData\\Roaming\\nltk_data...\n",
      "[nltk_data]   Package punkt is already up-to-date!\n"
     ]
    },
    {
     "data": {
      "text/plain": [
       "True"
      ]
     },
     "execution_count": 2,
     "metadata": {},
     "output_type": "execute_result"
    }
   ],
   "source": [
    "import nltk\n",
    "# Ensure nltk punkt tokenizer is downloaded (needed to split paragraphs into sentences)\n",
    "#nltk.download('punkt')"
   ]
  },
  {
   "cell_type": "code",
   "execution_count": 3,
   "metadata": {},
   "outputs": [],
   "source": [
    "import pandas as pd\n",
    "import numpy as np\n",
    "import nltk\n",
    "from sklearn.preprocessing import LabelBinarizer\n",
    "from sklearn.model_selection import train_test_split\n",
    "from sentence_transformers import SentenceTransformer\n",
    "from tensorflow.keras.models import Sequential\n",
    "from tensorflow.keras.layers import LSTM, Dense, Dropout\n",
    "from tensorflow.keras.optimizers import Adam\n",
    "\n",
    "# 1. Carregar o dataset e pré-processar\n",
    "\n",
    "essays_df = pd.read_csv(\"C:/Users/moura/Projetos/Colab-Essays/dados/essays.csv\", encoding=\"latin-1\")\n",
    "\n",
    "\n",
    "# Dividir os ensaios em sentenças\n",
    "essays_df['sentences'] = essays_df['TEXT'].apply(nltk.sent_tokenize)\n",
    "\n",
    "# Converter 'y' e 'n' para '1' e '0'\n",
    "label_columns = ['cEXT', 'cNEU', 'cAGR', 'cCON', 'cOPN']\n",
    "binarizer = LabelBinarizer()\n",
    "for col in label_columns:\n",
    "    essays_df[col] = binarizer.fit_transform(essays_df[col])"
   ]
  },
  {
   "cell_type": "code",
   "execution_count": 4,
   "metadata": {},
   "outputs": [],
   "source": [
    "# 2. Obter embeddings das sentenças usando SentenceTransformer\n",
    "\n",
    "model = SentenceTransformer('paraphrase-MiniLM-L6-v2')\n",
    "essays_df['embeddings'] = essays_df['sentences'].apply(lambda sentences: [model.encode(sentence) for sentence in sentences])\n",
    "\n",
    "# 3. Agregar embeddings para representar o ensaio completo\n",
    "\n",
    "essays_df['essay_embedding'] = essays_df['embeddings'].apply(lambda embeddings: np.mean(embeddings, axis=0))"
   ]
  },
  {
   "cell_type": "code",
   "execution_count": null,
   "metadata": {},
   "outputs": [],
   "source": [
    "\n",
    "\n",
    "# 4. Dividir os dados em conjuntos de treinamento e teste\n",
    "\n",
    "X = np.array(essays_df['essay_embedding'].tolist())\n",
    "y = essays_df[label_columns].values\n",
    "X_train, X_test, y_train, y_test = train_test_split(X, y, test_size=0.2, random_state=42)\n"
   ]
  },
  {
   "cell_type": "code",
   "execution_count": 3,
   "metadata": {},
   "outputs": [
    {
     "name": "stderr",
     "output_type": "stream",
     "text": [
      "WARNING:absl:`lr` is deprecated in Keras optimizer, please use `learning_rate` or use the legacy optimizer, e.g.,tf.keras.optimizers.legacy.Adam.\n"
     ]
    },
    {
     "name": "stdout",
     "output_type": "stream",
     "text": [
      "Epoch 1/10\n",
      "31/31 [==============================] - 58s 2s/step - loss: 0.6932 - accuracy: 0.1641 - val_loss: 0.6920 - val_accuracy: 0.0364\n",
      "Epoch 2/10\n",
      "31/31 [==============================] - 36s 1s/step - loss: 0.6930 - accuracy: 0.1125 - val_loss: 0.6923 - val_accuracy: 0.0992\n",
      "Epoch 3/10\n",
      "31/31 [==============================] - 35s 1s/step - loss: 0.6928 - accuracy: 0.1130 - val_loss: 0.6921 - val_accuracy: 0.1255\n",
      "Epoch 4/10\n",
      "31/31 [==============================] - 37s 1s/step - loss: 0.6926 - accuracy: 0.1145 - val_loss: 0.6920 - val_accuracy: 0.1255\n",
      "Epoch 5/10\n",
      "31/31 [==============================] - 38s 1s/step - loss: 0.6925 - accuracy: 0.1084 - val_loss: 0.6917 - val_accuracy: 0.1316\n",
      "Epoch 6/10\n",
      "31/31 [==============================] - 37s 1s/step - loss: 0.6925 - accuracy: 0.1180 - val_loss: 0.6914 - val_accuracy: 0.1215\n",
      "Epoch 7/10\n",
      "31/31 [==============================] - 37s 1s/step - loss: 0.6922 - accuracy: 0.1155 - val_loss: 0.6912 - val_accuracy: 0.1316\n",
      "Epoch 8/10\n",
      "31/31 [==============================] - 45s 1s/step - loss: 0.6921 - accuracy: 0.1332 - val_loss: 0.6913 - val_accuracy: 0.1296\n",
      "Epoch 9/10\n",
      "31/31 [==============================] - 41s 1s/step - loss: 0.6918 - accuracy: 0.1165 - val_loss: 0.6903 - val_accuracy: 0.1174\n",
      "Epoch 10/10\n",
      "31/31 [==============================] - 37s 1s/step - loss: 0.6911 - accuracy: 0.1145 - val_loss: 0.6895 - val_accuracy: 0.2308\n",
      "16/16 [==============================] - 3s 193ms/step - loss: 0.6895 - accuracy: 0.2308\n",
      "Test Loss: 0.6895156502723694\n",
      "Test Accuracy: 0.23076923191547394\n"
     ]
    }
   ],
   "source": [
    "from tensorflow.keras.callbacks import EarlyStopping\n",
    "\n",
    "# 5. Construir e treinar um modelo LSTM\n",
    "\n",
    "model = Sequential()\n",
    "model.add(LSTM(128, input_shape=(X_train.shape[1], 1), return_sequences=True))\n",
    "model.add(Dropout(0.2))\n",
    "model.add(LSTM(64, return_sequences=False))\n",
    "model.add(Dropout(0.2))\n",
    "model.add(Dense(y_train.shape[1], activation='sigmoid'))\n",
    "\n",
    "model.compile(optimizer=Adam(lr=0.001), loss='binary_crossentropy', metrics=['accuracy'])\n",
    "\n",
    "# Reshape data for LSTM\n",
    "X_train = np.reshape(X_train, (X_train.shape[0], X_train.shape[1], 1))\n",
    "X_test = np.reshape(X_test, (X_test.shape[0], X_test.shape[1], 1))\n",
    "\n",
    "# Define the early stopping callback\n",
    "early_stop = EarlyStopping(monitor='val_loss', patience=5, restore_best_weights=True)\n",
    "\n",
    "\n",
    "# Train the model with the callback\n",
    "history = model.fit(X_train, y_train, epochs=100, batch_size=64, validation_data=(X_test, y_test), callbacks=[early_stop])\n",
    "\n",
    "\n",
    "# 6. Avaliar o modelo no conjunto de teste\n",
    "\n",
    "loss, accuracy = model.evaluate(X_test, y_test)\n",
    "print(f\"Test Loss: {loss}\")\n",
    "print(f\"Test Accuracy: {accuracy}\")\n"
   ]
  },
  {
   "cell_type": "code",
   "execution_count": 4,
   "metadata": {},
   "outputs": [
    {
     "name": "stdout",
     "output_type": "stream",
     "text": [
      "62/62 [==============================] - 35s 558ms/step - loss: 0.6902 - accuracy: 0.1398\n"
     ]
    }
   ],
   "source": [
    "import pickle\n",
    "\n",
    "# Após treinar o modelo\n",
    "model.fit(X_train, y_train)\n",
    "\n",
    "# Salvar o modelo em um arquivo\n",
    "with open(\"random_forest.pkl\", \"wb\") as file:\n",
    "    pickle.dump(model, file)\n",
    "\n"
   ]
  }
 ],
 "metadata": {
  "kernelspec": {
   "display_name": "colab_essays",
   "language": "python",
   "name": "python3"
  },
  "language_info": {
   "codemirror_mode": {
    "name": "ipython",
    "version": 3
   },
   "file_extension": ".py",
   "mimetype": "text/x-python",
   "name": "python",
   "nbconvert_exporter": "python",
   "pygments_lexer": "ipython3",
   "version": "3.9.17"
  },
  "orig_nbformat": 4
 },
 "nbformat": 4,
 "nbformat_minor": 2
}
